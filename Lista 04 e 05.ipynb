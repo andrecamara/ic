{
 "cells": [
  {
   "cell_type": "markdown",
   "metadata": {},
   "source": [
    "# Introdução a Computação\n",
    "### Lista 04 - Exercícios de Revisão: Dicionários"
   ]
  },
  {
   "cell_type": "markdown",
   "metadata": {},
   "source": [
    "1\\. Crie um dicionário chamado 'dados' para armazenar informações sobre pessoas. A chave de\n",
    "cada elemento será o cpf da pessoa, que deve estar relacionado a um outro dicionario com os\n",
    "seguintes campos: nome, idade, telefone e endereco."
   ]
  },
  {
   "cell_type": "code",
   "execution_count": null,
   "metadata": {},
   "outputs": [],
   "source": []
  },
  {
   "cell_type": "markdown",
   "metadata": {},
   "source": [
    "2\\. Crie uma função que receba como argumentos o nome, a idade, o telefone e o endereço de\n",
    "uma pessoa e os insira no dicionário 'dados'."
   ]
  },
  {
   "cell_type": "code",
   "execution_count": null,
   "metadata": {},
   "outputs": [],
   "source": []
  },
  {
   "cell_type": "markdown",
   "metadata": {},
   "source": [
    "3\\. Crie uma função que imprima todos as pessoas cadastradadas no dicionário 'dados', no\n",
    "seguinte formato:\n",
    "\n",
    "        -----------------------\n",
    "        CPF: 00099900099911\n",
    "        NOME: José da Silva\n",
    "        IDADE: 18\n",
    "        TELEFONE: 81 88999990\n",
    "        -----------------------\n",
    "        CPF: 00099988787666\n",
    "        NOME: Maria do Bairro\n",
    "        IDADE: 23\n",
    "        TELEFONE: 81 97777888\n",
    "        -----------------------"
   ]
  },
  {
   "cell_type": "code",
   "execution_count": null,
   "metadata": {},
   "outputs": [],
   "source": []
  },
  {
   "cell_type": "markdown",
   "metadata": {},
   "source": [
    "4\\. Crie uma função que receba como entrada um CPF e imprima na tela os dados da pessoa."
   ]
  },
  {
   "cell_type": "code",
   "execution_count": null,
   "metadata": {},
   "outputs": [],
   "source": []
  },
  {
   "cell_type": "markdown",
   "metadata": {},
   "source": [
    "5\\. Crie uma função que receba como entrada um nome e imprima na tela os dados da pessoa."
   ]
  },
  {
   "cell_type": "code",
   "execution_count": null,
   "metadata": {},
   "outputs": [],
   "source": []
  },
  {
   "cell_type": "markdown",
   "metadata": {},
   "source": [
    "6\\. Crie uma função que retorne um novo dicionário com todas as pessoas menores de 18 anos\n",
    "no dicionário 'dados'."
   ]
  },
  {
   "cell_type": "code",
   "execution_count": null,
   "metadata": {},
   "outputs": [],
   "source": []
  },
  {
   "cell_type": "markdown",
   "metadata": {},
   "source": [
    "7\\. Qual o resultado da execução do seguinte fragmento de código python:\n",
    "    \n",
    "    for n in range(2,10):\n",
    "        for x in range(2,n):\n",
    "            if n % x == 0:\n",
    "                print(n, '=', x, '*', n/x)\n",
    "                break\n",
    "        else:\n",
    "            print(n,'é um número primo')\n",
    "    "
   ]
  },
  {
   "cell_type": "code",
   "execution_count": null,
   "metadata": {},
   "outputs": [],
   "source": []
  },
  {
   "cell_type": "markdown",
   "metadata": {},
   "source": [
    "8\\. Considere o trecho do programa Python abaixo. Qual o valor impresso ao executarmos o\n",
    "programa?\n",
    "    ```\n",
    "    def dobra(x):\n",
    "        x = y + y\n",
    "        return x\n",
    "\n",
    "    x = 5\n",
    "    dobra(x)\n",
    "    dobra(x)\n",
    "    print(x)\n",
    "    ```"
   ]
  },
  {
   "cell_type": "code",
   "execution_count": null,
   "metadata": {},
   "outputs": [],
   "source": []
  },
  {
   "cell_type": "markdown",
   "metadata": {},
   "source": [
    "### Lista 05- Exercícios de Revisão: Arquivos"
   ]
  },
  {
   "cell_type": "markdown",
   "metadata": {},
   "source": [
    "1\\. Escreva uma função em python, que receba como argumento o dicionário 'dados' definido na lista de exercícios anterior, e o salve em um arquivo no formato CSV:\n",
    "\n",
    "    CPF, NOME, IDADE, TELEFONE\n",
    "    00099900099911, José da Silva, 18, 81 88999990\n",
    "    00099988787666, Maria do Bairro, 23, 81 97777888"
   ]
  },
  {
   "cell_type": "code",
   "execution_count": null,
   "metadata": {},
   "outputs": [],
   "source": []
  },
  {
   "cell_type": "markdown",
   "metadata": {},
   "source": [
    "2\\. Escreva uma função em python, que receba como argumento o nome do arquivo CSV definido na questão anterior e retorne os dados contidos no arquivo em um dicionário python."
   ]
  },
  {
   "cell_type": "code",
   "execution_count": null,
   "metadata": {},
   "outputs": [],
   "source": []
  }
 ],
 "metadata": {
  "kernelspec": {
   "display_name": "Python 3",
   "language": "python",
   "name": "python3"
  },
  "language_info": {
   "codemirror_mode": {
    "name": "ipython",
    "version": 3
   },
   "file_extension": ".py",
   "mimetype": "text/x-python",
   "name": "python",
   "nbconvert_exporter": "python",
   "pygments_lexer": "ipython3",
   "version": "3.5.4"
  }
 },
 "nbformat": 4,
 "nbformat_minor": 2
}
