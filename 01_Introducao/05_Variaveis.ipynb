{
 "cells": [
  {
   "cell_type": "markdown",
   "metadata": {},
   "source": [
    "# Variáveis\n",
    "***"
   ]
  },
  {
   "cell_type": "markdown",
   "metadata": {},
   "source": [
    "O sinal de $=$ é um sinal de atribuição\n",
    "\n",
    "Podemos criar quantas variáveis quiser\n",
    "\n",
    "$x = y = z = 0$, todas as variaveis vão zerar\n",
    "\n",
    "No python não precisa especificar o tipo de variável como em outras linguagens.\n",
    "\n",
    "Python tudo é objeto\n",
    "\n",
    "Em python o valor não é atribuido a variável, sim a variável é atribuido ao valor, já que tudo no python é objetos, a variável irá apontar para a referência do objeto na memória, logo o objeto é criado na memória e depois o variavel é atribuido a ele, podemos pensar nas variáveis como **Rotulos** que será atribuido a um valor, por exemplo, o objeto 23 vou inserir o rotulo idade nele, logo 23 tem um rótulo chamado idade, por isso python consegue atribuir rotulos a funções e etc...\n",
    "\n",
    "```\n",
    "idade = 23\n",
    "imprimir = print\n",
    "imprimir(\"Oi eu sou a função print!\")\n",
    "```"
   ]
  },
  {
   "cell_type": "markdown",
   "metadata": {},
   "source": [
    "***\n",
    "### Regras de nomeclatura de variáveis\n",
    "***"
   ]
  },
  {
   "cell_type": "markdown",
   "metadata": {},
   "source": [
    "1. Não posso escreve nome da variável com espaço\n",
    "\n",
    "2. Não posso usar caracteres especiais para criar variáveis, por exemplo ```#,!,,$,%,&,...```\n",
    "\n",
    "3. Pode usar acentos e **ç** nas variáveis, porém não é uma boa prática\n",
    "\n",
    "4. Crie variáveis e códigos sempre em ingles, boas práticas\n",
    "\n",
    "5. Pode-se usar underline **_** no nome das variáveis, snake, boa prática, porém se quiser usar camelCase também pode\n",
    "\n",
    "6. Não se pode nomear variáves com nomes chaves da linguagem, por exemplo, **class**, **while**, **for**...\n",
    "\n",
    "7. Não use nomes como **int**, **float**, **print**, **sum** e etc... , não é uma boa prática"
   ]
  },
  {
   "cell_type": "markdown",
   "metadata": {},
   "source": [
    "***\n",
    "### Palavras reservadas do python\n",
    "***"
   ]
  },
  {
   "cell_type": "markdown",
   "metadata": {},
   "source": [
    "* and, as, assert, break, class, continue, def\n",
    "* del, elif, else, except, nonlocal/exec, finally, for\n",
    "* from, global, if, import, in, is, lambda\n",
    "* not, or, pass, print, raise, return, try\n",
    "* while, with, yield"
   ]
  },
  {
   "cell_type": "markdown",
   "metadata": {},
   "source": [
    "***\n",
    "### Tipos de variáveis\n",
    "***\n",
    "\n",
    "Em python todos os tipos são objetos"
   ]
  },
  {
   "cell_type": "markdown",
   "metadata": {},
   "source": [
    "* **int**: Tipo inteiro, . . . , -3, -2, -1, 0, 1, 2, 3, . . .\n",
    "* **float**: Tipo de ponto flutuante, . . . , -3.2, 0.5, 4.4 . . .\n",
    "* **string**: Texto ou palavras, \"Texto ou string\"\n",
    "* etc. . ."
   ]
  },
  {
   "cell_type": "markdown",
   "metadata": {},
   "source": [
    "***\n",
    "### Exemplo\n",
    "***"
   ]
  },
  {
   "cell_type": "code",
   "execution_count": 1,
   "metadata": {},
   "outputs": [
    {
     "name": "stdout",
     "output_type": "stream",
     "text": [
      "<class 'int'>\n",
      "<class 'int'>\n"
     ]
    }
   ],
   "source": [
    "# Vamos criar o rótulo idade para o objeto 23 da classe int\n",
    "idade = 23\n",
    "print(type(23))\n",
    "print(type(idade))"
   ]
  },
  {
   "cell_type": "markdown",
   "metadata": {},
   "source": [
    "***"
   ]
  },
  {
   "cell_type": "code",
   "execution_count": 2,
   "metadata": {},
   "outputs": [
    {
     "name": "stdout",
     "output_type": "stream",
     "text": [
      "Oi eu sou o print\n",
      "<class 'builtin_function_or_method'>\n"
     ]
    }
   ],
   "source": [
    "# Vamos rotular a função print\n",
    "imprimir = print\n",
    "imprimir(\"Oi eu sou o print\")\n",
    "print(type(imprimir))"
   ]
  },
  {
   "cell_type": "markdown",
   "metadata": {},
   "source": [
    "***"
   ]
  },
  {
   "cell_type": "code",
   "execution_count": 3,
   "metadata": {
    "collapsed": true
   },
   "outputs": [],
   "source": [
    "# Vamos criar o rótulo list1 para o objeto da classe list\n",
    "list1 = [1, 2, 3, 4]"
   ]
  },
  {
   "cell_type": "markdown",
   "metadata": {},
   "source": [
    "***"
   ]
  },
  {
   "cell_type": "code",
   "execution_count": 4,
   "metadata": {},
   "outputs": [
    {
     "name": "stdout",
     "output_type": "stream",
     "text": [
      "[1, 2, 3, 4]\n",
      "[1, 2, 3, 4]\n"
     ]
    }
   ],
   "source": [
    "# Vamos criar um novo rotulo para o mesmo objeto da classe list\n",
    "list2 = list1\n",
    "print(list2)\n",
    "print(list1)"
   ]
  },
  {
   "cell_type": "markdown",
   "metadata": {},
   "source": [
    "***"
   ]
  },
  {
   "cell_type": "code",
   "execution_count": 5,
   "metadata": {},
   "outputs": [
    {
     "name": "stdout",
     "output_type": "stream",
     "text": [
      "[10, 2, 3, 4]\n",
      "[10, 2, 3, 4]\n"
     ]
    }
   ],
   "source": [
    "# Vamos modificar o valor da list2 e isso modificará o valor da list1 automaticamente\n",
    "# Pois ambos os rótulos estão referenciando o mesmo objeto na memória\n",
    "list2[0] = 10\n",
    "print(list2)\n",
    "print(list1)"
   ]
  },
  {
   "cell_type": "markdown",
   "metadata": {},
   "source": [
    "***"
   ]
  },
  {
   "cell_type": "code",
   "execution_count": 6,
   "metadata": {},
   "outputs": [
    {
     "name": "stdout",
     "output_type": "stream",
     "text": [
      "[10, 2, 3, 4]\n",
      "[5, 2, 3, 4]\n"
     ]
    }
   ],
   "source": [
    "# Para que isso não aconteça temos que fazer uma cópia do objeto\n",
    "list2 = list1.copy()\n",
    "list2[0] = 5\n",
    "print(list1)\n",
    "print(list2)"
   ]
  }
 ],
 "metadata": {
  "kernelspec": {
   "display_name": "Python 3",
   "language": "python",
   "name": "python3"
  },
  "language_info": {
   "codemirror_mode": {
    "name": "ipython",
    "version": 3
   },
   "file_extension": ".py",
   "mimetype": "text/x-python",
   "name": "python",
   "nbconvert_exporter": "python",
   "pygments_lexer": "ipython3",
   "version": "3.5.2"
  }
 },
 "nbformat": 4,
 "nbformat_minor": 2
}
