{
 "cells": [
  {
   "cell_type": "markdown",
   "metadata": {},
   "source": [
    "# Sistemas Númericos\n",
    "***"
   ]
  },
  {
   "cell_type": "markdown",
   "metadata": {},
   "source": [
    "**Exemplo**:\n",
    "\n",
    "$10 = 1010 = 1\\times2^3 + 0\\times2^2 + 1\\times2^1 + 0\\times2^0 = 8 + 0 + 2 + 0 = 10$\n",
    "\n",
    "```\n",
    " decimal - Binario\n",
    "   0     -    0\n",
    "   1     -    1\n",
    "   2     -   10\n",
    "   3     -   11\n",
    "   4     -  100\n",
    "   5     -  101\n",
    "   6     -  110\n",
    "   7     -  111\n",
    "   8     - 1000\n",
    "   9     - 1001\n",
    "   10    - 1010\n",
    "   ...\n",
    "```\n",
    "```\n",
    "... 64 32 16 8 4 2 1\n",
    "     1  0  1 1 1 0 1 = 64 + 16 + 8 + 4 + 1 = 93\n",
    "```\n",
    "\n",
    "**10.bit_length()**: Nos diz quantos bits a variável tem de memória, o número 10 precisa de 4 bits de memória 1010\n",
    "\n",
    "### Sistemas Númericos\n",
    "\n",
    "* **Decimal(Base 10)**: 10, 20, 30 ....\n",
    "\n",
    "\n",
    "* **Binário(Base 2)**: 0 ou 1 por exemplo, $1001 = (1\\times2^3) + (0\\times2^2) + (0\\times2^1) + (1\\times2^0) = 9$\n",
    "\n",
    "\n",
    "* **Hexadecimal(Base 16)**: 0 1 2 3 4 5 6 7 8 9 A B C D E F, por exemplo, $4EF = (4\\times16^2) + (14\\times16^1) + (15\\times16^0) = 1263$\n",
    "\n",
    "\n",
    "* **Octal(Base 8)**: 0 1 2 3 4 5 6 7, por exemplo, $217 = (2\\times8^2) + (1\\times8^1) + (7\\times8^0)$"
   ]
  },
  {
   "cell_type": "markdown",
   "metadata": {},
   "source": [
    "***\n",
    "#### Binário:\n",
    "***\n",
    "\n",
    "* Os computadores entendem impulsos eletricos, positivos ou negativos, que são representados por 1 ou 0 que pode ser chamado de códigos binários.\n",
    "\n",
    "\n",
    "* A cada impulso damos o nome de bit (binary digit).\n",
    "\n",
    "\n",
    "* Um conjunto de 8 bits reunidos como uma única unidade forma um byte\n",
    "\n",
    "\n",
    "* Nos computadores, representar 256 números binários é suficiente para que possamos lidar a contento com estas máquinas.\n",
    "\n",
    "\n",
    "* Assim, os bytes possuem 8 bits.\n",
    "\n",
    "\n",
    "* É só fazer os cálculos: como um bit representa dois tipos de valores (1 ou 0) e um byte representa 8 bits, basta 2 (do bit) elevado a 8 (do byte) que é igual a 256: $2^8 = 256$.\n",
    "\n",
    "\n",
    "* Os bytes representam todas as letras (maiúsculas e minúsculas), sinais de pontuação, acentos, caracteres especiais e até informações que não podemos ver, mas que servem para comandar o computador e que podem inclusive ser enviados pelo teclado ou por outro dispositivo de entrada de dados e instruções.\n",
    "\n",
    "\n",
    "* Os códigos binários admitem 2 possibilidades podendo ser, 0 ou 1, tudo ou nada, ligado ou desligado, false ou verdadeiro e por ai vai, sempre um sendo o oposto do outro\n",
    "\n",
    "\n",
    "* O código binario é realizado em potencias de 2\n",
    "\n",
    "\n",
    "* A tabela ASCII é a tabela que mostra todos os digitos e caracteres em forma binaria\n",
    "\n",
    "\n",
    "* 1 GB de RAM significa que temos 1024 megabytes que é $1024*1024$ kilobytes que é $1024*1024*1024$ bytes que é $1024*1024*1024*8$ bits, ou seja o número de espaços que minha memória contem para colocar algoritmos 0 e 1 é de mais ou menos 85 bilhões\n",
    "\n",
    "\n",
    "* Alocação de memória significa pegar um determinado número de bits da minha memória, seleciona-lo e ocupa-los com alguma informação qualquer, por exemplo quando guardamos um valor 10 em uma variável estamos armazenando na memória 4 bits que seria 1010, logo pega 4 espaços de memória para armazena-lo dos 85 bilhões\n",
    "\n",
    "\n",
    "* Existe um gerenciador de memória em python que irá lidar com o gerenciamento desses espaços que você precisa alocar para armazenar informações\n",
    "\n",
    "\n",
    "* Quando você atribui uma variável a outra, por exemplo, $a = b$, você está criando dois espaços de memória diferente, porém se você atribuir uma lista a outra, as duas listas estarão no mesmo espaço de memória, com isso podemos concluir que a lista armazena o endereço dos espaços de memória e não seu valor, logo quando atribui uma lista a outra ta passando o endereço da lista1 para a lista2, logo se modificar uma lista, também modificará a outra já que elas estão no mesmo espaço de memória"
   ]
  },
  {
   "cell_type": "markdown",
   "metadata": {},
   "source": [
    "***\n",
    "#### Prática\n",
    "***"
   ]
  },
  {
   "cell_type": "markdown",
   "metadata": {},
   "source": [
    "O operador Bitwise funciona em bits e executa operação bit a bit.\n",
    "\n",
    "Suponha se $a = 60$ e $b = 13$.\n",
    "\n",
    "Agora, em formato binário, serão os seguintes: $a = 0011 1100$ e $b = 0000 1101$\n",
    "\n",
    "Temos 4 tipos de operadores:\n",
    "\n",
    "* **&**: AND\n",
    "\n",
    "```\n",
    "    0 & 0 = 0\n",
    "    0 & 1 = 0\n",
    "    1 & 0 = 0\n",
    "    1 & 1 = 1\n",
    "```\n",
    "\n",
    "* **|**: OR\n",
    "\n",
    "```\n",
    "    0 | 0 = 0\n",
    "    0 | 1 = 1\n",
    "    1 | 0 = 1\n",
    "    1 | 1 = 1\n",
    "```\n",
    "\n",
    "* **^**: XOR\n",
    "\n",
    "```\n",
    "    0 ^ 0 = 0   -> 0 + 0 = 0 % 2 = 0\n",
    "    0 ^ 1 = 1   -> 0 + 1 = 1 % 2 = 1\n",
    "    1 ^ 0 = 1   -> 1 + 0 = 1 % 2 = 1\n",
    "    1 ^ 1 = 0   -> 1 + 1 = 2 % 2 = 0\n",
    "```\n",
    "\n",
    "* **~**: NOT\n",
    "\n",
    "```\n",
    "    ~0 = 1\n",
    "    ~1 = 0\n",
    "```\n",
    "\n",
    "* **<<**: Mudança binaria a esquerda\n",
    "\n",
    "```\n",
    "    60 << 2: andar 2 bits a esquerda\n",
    "    0011 1100 -> 1111 0000\n",
    "```\n",
    "\n",
    "* **>>**: Mudança binaria a direita\n",
    "\n",
    "```\n",
    "    60 >> 2: andar 2 bits a direita\n",
    "    0011 1100 -> 0000 1111\n",
    "```"
   ]
  },
  {
   "cell_type": "markdown",
   "metadata": {},
   "source": [
    "***\n",
    "### Sistemas númericos\n",
    "***"
   ]
  },
  {
   "cell_type": "code",
   "execution_count": 1,
   "metadata": {},
   "outputs": [
    {
     "name": "stdout",
     "output_type": "stream",
     "text": [
      "10 20 1287\n"
     ]
    }
   ],
   "source": [
    "# Sistema decimal\n",
    "a = 10\n",
    "b = 20\n",
    "c = 1287\n",
    "print(a, b, c)"
   ]
  },
  {
   "cell_type": "markdown",
   "metadata": {},
   "source": [
    "***"
   ]
  },
  {
   "cell_type": "code",
   "execution_count": 2,
   "metadata": {},
   "outputs": [
    {
     "name": "stdout",
     "output_type": "stream",
     "text": [
      "10 = 0b1010\n",
      "20 = 0b10100\n",
      "1287 = 0b10100000111\n"
     ]
    }
   ],
   "source": [
    "# Sistema binario, o 0b é uma notação do python para trabalhar com número binário\n",
    "print(\"{0} = {1}\".format(int(bin(a), 2), bin(a)))\n",
    "print(\"{0} = {1}\".format(int(bin(b), 2), bin(b)))\n",
    "print(\"{0} = {1}\".format(int(bin(c), 2), bin(c)))"
   ]
  },
  {
   "cell_type": "markdown",
   "metadata": {},
   "source": [
    "***"
   ]
  },
  {
   "cell_type": "code",
   "execution_count": 3,
   "metadata": {},
   "outputs": [
    {
     "name": "stdout",
     "output_type": "stream",
     "text": [
      "10 = 0xa\n",
      "20 = 0x14\n",
      "1287 = 0x507\n"
     ]
    }
   ],
   "source": [
    "# Sistema hexadecimal, o 0x é uma notação do python para trabalhar com número hexadecimal\n",
    "print(\"{0} = {1}\".format(int(hex(a), 16), hex(a)))\n",
    "print(\"{0} = {1}\".format(int(hex(b), 16), hex(b)))\n",
    "print(\"{0} = {1}\".format(int(hex(c), 16), hex(c)))"
   ]
  },
  {
   "cell_type": "markdown",
   "metadata": {},
   "source": [
    "***"
   ]
  },
  {
   "cell_type": "code",
   "execution_count": 4,
   "metadata": {},
   "outputs": [
    {
     "name": "stdout",
     "output_type": "stream",
     "text": [
      "10 = 0o12\n",
      "20 = 0o24\n",
      "1287 = 0o2407\n"
     ]
    }
   ],
   "source": [
    "# Sistema octal, o 0o é uma notação do python para trabalhar com número octal\n",
    "print(\"{0} = {1}\".format(int(oct(a), 8), oct(a)))\n",
    "print(\"{0} = {1}\".format(int(oct(b), 8), oct(b)))\n",
    "print(\"{0} = {1}\".format(int(oct(c), 8), oct(c)))"
   ]
  },
  {
   "cell_type": "markdown",
   "metadata": {},
   "source": [
    "***\n",
    "### Operações Bitwise\n",
    "***"
   ]
  },
  {
   "cell_type": "code",
   "execution_count": 5,
   "metadata": {
    "collapsed": true
   },
   "outputs": [],
   "source": [
    "# Inicializar os binarios\n",
    "a = 60 # 0011 1100\n",
    "b = 13 # 0000 1101\n",
    "c = 0"
   ]
  },
  {
   "cell_type": "markdown",
   "metadata": {},
   "source": [
    "***"
   ]
  },
  {
   "cell_type": "code",
   "execution_count": 6,
   "metadata": {},
   "outputs": [
    {
     "name": "stdout",
     "output_type": "stream",
     "text": [
      "12 0b1100\n"
     ]
    }
   ],
   "source": [
    "# a = 60 = 0011 1100\n",
    "# b = 13 = 0000 1101\n",
    "# c = 12 = 0000 1100\n",
    "c = a & b\n",
    "print(c, bin(c))"
   ]
  },
  {
   "cell_type": "markdown",
   "metadata": {},
   "source": [
    "***"
   ]
  },
  {
   "cell_type": "code",
   "execution_count": 7,
   "metadata": {},
   "outputs": [
    {
     "name": "stdout",
     "output_type": "stream",
     "text": [
      "61 0b111101\n"
     ]
    }
   ],
   "source": [
    "# a = 60 = 0011 1100\n",
    "# b = 13 = 0000 1101\n",
    "# c = 61 = 0011 1101\n",
    "c = a | b\n",
    "print(c, bin(c))"
   ]
  },
  {
   "cell_type": "markdown",
   "metadata": {},
   "source": [
    "***"
   ]
  },
  {
   "cell_type": "code",
   "execution_count": 8,
   "metadata": {},
   "outputs": [
    {
     "name": "stdout",
     "output_type": "stream",
     "text": [
      "49 0b110001\n",
      "60 0b111100\n"
     ]
    }
   ],
   "source": [
    "# a = 60 = 0011 1100\n",
    "# b = 13 = 0000 1101\n",
    "# c = 49 = 0011 0001\n",
    "c = a ^ b\n",
    "print(c, bin(c))\n",
    "a = c ^ b\n",
    "print(a, bin(a))"
   ]
  },
  {
   "cell_type": "markdown",
   "metadata": {},
   "source": [
    "***"
   ]
  },
  {
   "cell_type": "code",
   "execution_count": 9,
   "metadata": {},
   "outputs": [
    {
     "name": "stdout",
     "output_type": "stream",
     "text": [
      "-61 -0b111101\n"
     ]
    }
   ],
   "source": [
    "# a = 60  = 0011 1100\n",
    "# c = -61 = 1100 0011\n",
    "c = ~a\n",
    "print(c, bin(c))"
   ]
  },
  {
   "cell_type": "markdown",
   "metadata": {},
   "source": [
    "***"
   ]
  },
  {
   "cell_type": "code",
   "execution_count": 10,
   "metadata": {},
   "outputs": [
    {
     "name": "stdout",
     "output_type": "stream",
     "text": [
      "240 0b11110000\n"
     ]
    }
   ],
   "source": [
    "# a = 60  = 0011 1100\n",
    "# c = 240 = 1111 0000\n",
    "c = a << 2\n",
    "print(c, bin(c))"
   ]
  },
  {
   "cell_type": "markdown",
   "metadata": {},
   "source": [
    "***"
   ]
  },
  {
   "cell_type": "code",
   "execution_count": 11,
   "metadata": {},
   "outputs": [
    {
     "name": "stdout",
     "output_type": "stream",
     "text": [
      "15 0b1111\n"
     ]
    }
   ],
   "source": [
    "# a = 60 = 0011 1100\n",
    "# c = 15 = 0000 1111\n",
    "c = a >> 2\n",
    "print(c, bin(c))"
   ]
  }
 ],
 "metadata": {
  "kernelspec": {
   "display_name": "Python 3",
   "language": "python",
   "name": "python3"
  },
  "language_info": {
   "codemirror_mode": {
    "name": "ipython",
    "version": 3
   },
   "file_extension": ".py",
   "mimetype": "text/x-python",
   "name": "python",
   "nbconvert_exporter": "python",
   "pygments_lexer": "ipython3",
   "version": "3.5.2"
  }
 },
 "nbformat": 4,
 "nbformat_minor": 2
}
