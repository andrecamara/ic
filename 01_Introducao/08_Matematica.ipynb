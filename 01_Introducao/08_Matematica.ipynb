{
 "cells": [
  {
   "cell_type": "markdown",
   "metadata": {},
   "source": [
    "# Matematica\n",
    "***"
   ]
  },
  {
   "cell_type": "markdown",
   "metadata": {},
   "source": [
    "O python pode ser considerado uma calculadora\n",
    "\n",
    "**Ordem de operação**: ```*, /, //, %, **, +, -```, para deixar uma soma ou subtração antes da divisão, multiplicação e etc... tem que colocar entre parenteses\n",
    "\n",
    "Sempre coloque parentese nas suas expressões, deixa mais organizado e legivel\n",
    "\n",
    "**Atalhos do python**:\n",
    "\n",
    "  - ```count += 1: count = count + 1```\n",
    "  - ```count -= 1: count = count - 1```\n",
    "  - ```count *= 1: count = count * 1```\n",
    "  - ```count /= 1: count = count / 1```\n",
    "  - ```count %= 1: count = count % 1```\n",
    "  - ```count //= 1: count = count // 1```\n",
    "  - ```count **= 2: count = count ** 2```"
   ]
  },
  {
   "cell_type": "markdown",
   "metadata": {},
   "source": [
    "***\n",
    "### Exemplo\n",
    "***"
   ]
  },
  {
   "cell_type": "code",
   "execution_count": 1,
   "metadata": {
    "collapsed": true
   },
   "outputs": [],
   "source": [
    "x = 10\n",
    "y = 20\n",
    "z = 5"
   ]
  },
  {
   "cell_type": "markdown",
   "metadata": {},
   "source": [
    "***"
   ]
  },
  {
   "cell_type": "code",
   "execution_count": 2,
   "metadata": {},
   "outputs": [
    {
     "name": "stdout",
     "output_type": "stream",
     "text": [
      "x = 10 e y = 20\n"
     ]
    }
   ],
   "source": [
    "print(\"x = 10 e y = 20\")"
   ]
  },
  {
   "cell_type": "code",
   "execution_count": 3,
   "metadata": {},
   "outputs": [
    {
     "name": "stdout",
     "output_type": "stream",
     "text": [
      "x + y = 30\n"
     ]
    }
   ],
   "source": [
    "print(\"x + y =\", x + y)"
   ]
  },
  {
   "cell_type": "code",
   "execution_count": 4,
   "metadata": {},
   "outputs": [
    {
     "name": "stdout",
     "output_type": "stream",
     "text": [
      "x + 50 = 60\n"
     ]
    }
   ],
   "source": [
    "print(\"x + 50 =\", x + 50)"
   ]
  },
  {
   "cell_type": "code",
   "execution_count": 5,
   "metadata": {},
   "outputs": [
    {
     "name": "stdout",
     "output_type": "stream",
     "text": [
      "x - y = -10\n"
     ]
    }
   ],
   "source": [
    "print(\"x - y =\", x - y)"
   ]
  },
  {
   "cell_type": "code",
   "execution_count": 6,
   "metadata": {},
   "outputs": [
    {
     "name": "stdout",
     "output_type": "stream",
     "text": [
      "x - 50 = -40\n"
     ]
    }
   ],
   "source": [
    "print(\"x - 50 =\", x - 50)"
   ]
  },
  {
   "cell_type": "code",
   "execution_count": 7,
   "metadata": {},
   "outputs": [
    {
     "name": "stdout",
     "output_type": "stream",
     "text": [
      "x * y = 200\n"
     ]
    }
   ],
   "source": [
    "print(\"x * y =\", x * y)"
   ]
  },
  {
   "cell_type": "code",
   "execution_count": 8,
   "metadata": {},
   "outputs": [
    {
     "name": "stdout",
     "output_type": "stream",
     "text": [
      "x * 50 = 500\n"
     ]
    }
   ],
   "source": [
    "print(\"x * 50 =\", x * 50)"
   ]
  },
  {
   "cell_type": "code",
   "execution_count": 9,
   "metadata": {},
   "outputs": [
    {
     "name": "stdout",
     "output_type": "stream",
     "text": [
      "x / y = 0.5\n"
     ]
    }
   ],
   "source": [
    "print(\"x / y =\", x / y)"
   ]
  },
  {
   "cell_type": "code",
   "execution_count": 10,
   "metadata": {},
   "outputs": [
    {
     "name": "stdout",
     "output_type": "stream",
     "text": [
      "x / 50 = 0.2\n"
     ]
    }
   ],
   "source": [
    "print(\"x / 50 =\", x / 50)"
   ]
  },
  {
   "cell_type": "code",
   "execution_count": 11,
   "metadata": {},
   "outputs": [
    {
     "name": "stdout",
     "output_type": "stream",
     "text": [
      "10 // 3 = 3\n"
     ]
    }
   ],
   "source": [
    "print(\"10 // 3 =\", 10 // 3)"
   ]
  },
  {
   "cell_type": "code",
   "execution_count": 12,
   "metadata": {},
   "outputs": [
    {
     "name": "stdout",
     "output_type": "stream",
     "text": [
      "10 % 3 = 1\n"
     ]
    }
   ],
   "source": [
    "print(\"10 % 3 =\", 10 % 3)"
   ]
  },
  {
   "cell_type": "code",
   "execution_count": 13,
   "metadata": {},
   "outputs": [
    {
     "name": "stdout",
     "output_type": "stream",
     "text": [
      "3 ** 2 = 9\n"
     ]
    }
   ],
   "source": [
    "print(\"3 ** 2 =\", 3 ** 2)"
   ]
  },
  {
   "cell_type": "code",
   "execution_count": 14,
   "metadata": {},
   "outputs": [
    {
     "name": "stdout",
     "output_type": "stream",
     "text": [
      "Resultado da expressão ( ( 10 + 20 ) * 2 ) / 5 = 12.0\n"
     ]
    }
   ],
   "source": [
    "print(\"Resultado da expressão ( (\",x,\"+\",y,\") *\",2,\") /\",z,\"=\", ((x+y)*2)/z)"
   ]
  },
  {
   "cell_type": "code",
   "execution_count": 15,
   "metadata": {},
   "outputs": [
    {
     "name": "stdout",
     "output_type": "stream",
     "text": [
      "Resultado da expressão ( 10 + 20 ) = 30\n"
     ]
    }
   ],
   "source": [
    "print(\"Resultado da expressão (\",x,\"+\",y,\") =\", x + y)"
   ]
  }
 ],
 "metadata": {
  "kernelspec": {
   "display_name": "Python 3",
   "language": "python",
   "name": "python3"
  },
  "language_info": {
   "codemirror_mode": {
    "name": "ipython",
    "version": 3
   },
   "file_extension": ".py",
   "mimetype": "text/x-python",
   "name": "python",
   "nbconvert_exporter": "python",
   "pygments_lexer": "ipython3",
   "version": "3.5.2"
  }
 },
 "nbformat": 4,
 "nbformat_minor": 2
}
