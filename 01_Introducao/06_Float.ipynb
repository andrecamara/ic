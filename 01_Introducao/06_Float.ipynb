{
 "cells": [
  {
   "cell_type": "markdown",
   "metadata": {},
   "source": [
    "# Float\n",
    "***"
   ]
  },
  {
   "cell_type": "markdown",
   "metadata": {},
   "source": [
    "$a = 10$: É um **número natural** e pode ser representado por **int**\n",
    "\n",
    "$b = -5$: É um **número inteiro** e pode ser representado por **int**\n",
    "\n",
    "$c = 4.45$: É um **número racional** e deve ser representado por **float**\n",
    "\n",
    "$d = 2^\\frac{1}{2}$: É um **número irracional** e deve ser representado por **float**\n",
    "\n",
    "```e = float(\"12.45\")```: Aqui usamos o construtor **float** para transformar a **string 12.45** em um **número real**\n",
    "\n",
    "```f = float(input(\"Digite um numero real: \"))```: Quando o usuário pedir um número real irá devolver um float ao inves de uma string\n",
    "\n",
    "Números reais são os números que vai do $+\\infty$ até o $-\\infty$ e que inclui praticamente quase todas as categorias de números\n",
    "\n",
    "  - **Naturais N**: 1, 2, 3, 4, 5, . . .\n",
    "  - **Inteiros I**: . . . , −3, −2, −1, 0, 1, 2, 3, . . .\n",
    "  - **Racionais Q**: 3/4, 4/5, 7/3, 4.6 . . .\n",
    "  - **Irracionais**: pi, euler, 2 ∗ ∗1/2, raizes\n",
    "\n",
    "Os números complexos não se encontra nessa lista\n",
    "\n",
    "Quando você tem operações de números inteiros com números reais o python te devolve um número real\n",
    "\n",
    "**int(3.4)** devolve um número inteiro e **float(3)** devolve um número real\n",
    "\n",
    "Para descobrir se o número é decima ou inteiro só comparar com seu inteiro, pois 4 é igual a **int(4)** e 4.5 é diferente de **int(4.5)**.\n",
    "\n",
    "Para arredondar é só usar a função **round()** e passar o número como parâmetro."
   ]
  },
  {
   "cell_type": "markdown",
   "metadata": {},
   "source": [
    "***\n",
    "### Exemplo\n",
    "***"
   ]
  },
  {
   "cell_type": "markdown",
   "metadata": {},
   "source": [
    "Dado um inteiro positivo n, calcule e imprima o valor da seguinte soma:\n",
    "\n",
    "\n",
    "$S = \\frac{1}{n} + \\frac{2}{(n-1)} + \\frac{3}{(n-2)} + ... + \\frac{n}{1}$"
   ]
  },
  {
   "cell_type": "code",
   "execution_count": 1,
   "metadata": {},
   "outputs": [
    {
     "name": "stdout",
     "output_type": "stream",
     "text": [
      "Digite o valor de n: 5\n"
     ]
    }
   ],
   "source": [
    "# Inserindo o valor de n\n",
    "n = int(input(\"Digite o valor de n: \"))"
   ]
  },
  {
   "cell_type": "code",
   "execution_count": 2,
   "metadata": {
    "collapsed": true
   },
   "outputs": [],
   "source": [
    "# Inicializando a soma\n",
    "S = 0.0"
   ]
  },
  {
   "cell_type": "code",
   "execution_count": 3,
   "metadata": {
    "collapsed": true
   },
   "outputs": [],
   "source": [
    "# Loop para calcular o valor de S\n",
    "for i in range(1, n+1):\n",
    "    S += i/(n -i + 1)"
   ]
  },
  {
   "cell_type": "code",
   "execution_count": 4,
   "metadata": {},
   "outputs": [
    {
     "name": "stdout",
     "output_type": "stream",
     "text": [
      "A soma é: 8.7\n"
     ]
    }
   ],
   "source": [
    "# Mostrando resultado\n",
    "print(\"A soma é:\", S)"
   ]
  }
 ],
 "metadata": {
  "kernelspec": {
   "display_name": "Python 3",
   "language": "python",
   "name": "python3"
  },
  "language_info": {
   "codemirror_mode": {
    "name": "ipython",
    "version": 3
   },
   "file_extension": ".py",
   "mimetype": "text/x-python",
   "name": "python",
   "nbconvert_exporter": "python",
   "pygments_lexer": "ipython3",
   "version": "3.5.2"
  }
 },
 "nbformat": 4,
 "nbformat_minor": 2
}
